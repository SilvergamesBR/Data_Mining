{
 "cells":[
  {
   "cell_type":"markdown",
   "source":[
    "In this notebook, we will do an analysis of the Titanic dataset trying to predict if a passenger is likely to survive or not, first we will load our dataset and do some basic cleaning on the resulting dataframe."
   ],
   "attachments":{
    
   },
   "metadata":{
    "datalore":{
     "node_id":"GYACs8IKtELxVy3uMvVA3d",
     "type":"MD",
     "hide_input_from_viewers":true,
     "hide_output_from_viewers":true
    }
   }
  },
  {
   "cell_type":"code",
   "source":[
    "import pandas as pd\n",
    "import matplotlib as plt\n",
    "import seaborn as sns\n",
    "import numpy as np\n",
    "import pingouin as pg\n",
    "\n",
    "titanic = pd.read_csv(\"train.csv\")\n",
    "titanic.info()\n",
    "print(titanic.isna().sum())"
   ],
   "execution_count":2,
   "outputs":[
    {
     "name":"stdout",
     "text":[
      "<class 'pandas.core.frame.DataFrame'>\n",
      "RangeIndex: 891 entries, 0 to 890\n",
      "Data columns (total 12 columns):\n",
      " #   Column       Non-Null Count  Dtype  \n",
      "---  ------       --------------  -----  \n",
      " 0   PassengerId  891 non-null    int64  \n",
      " 1   Survived     891 non-null    int64  \n",
      " 2   Pclass       891 non-null    int64  \n",
      " 3   Name         891 non-null    object \n",
      " 4   Sex          891 non-null    object \n",
      " 5   Age          714 non-null    float64\n",
      " 6   SibSp        891 non-null    int64  \n",
      " 7   Parch        891 non-null    int64  \n",
      " 8   Ticket       891 non-null    object \n",
      " 9   Fare         891 non-null    float64\n",
      " 10  Cabin        204 non-null    object \n",
      " 11  Embarked     889 non-null    object \n",
      "dtypes: float64(2), int64(5), object(5)\n",
      "memory usage: 83.7+ KB\n",
      "PassengerId      0\n",
      "Survived         0\n",
      "Pclass           0\n",
      "Name             0\n",
      "Sex              0\n",
      "Age            177\n",
      "SibSp            0\n",
      "Parch            0\n",
      "Ticket           0\n",
      "Fare             0\n",
      "Cabin          687\n",
      "Embarked         2\n",
      "dtype: int64\n"
     ],
     "output_type":"stream"
    }
   ],
   "metadata":{
    "datalore":{
     "node_id":"rb5TztnYKH67mWH0LENvip",
     "type":"CODE",
     "hide_input_from_viewers":true,
     "hide_output_from_viewers":true
    }
   }
  },
  {
   "cell_type":"markdown",
   "source":[
    "As you can see from the output, the data is very dirty, containing lots of not valid values, in the columns Age, Cabin and Embarked. We will deal with each of those columns in a different way, first let's deal with the Cabin column the most problematic one"
   ],
   "attachments":{
    
   },
   "metadata":{
    "datalore":{
     "node_id":"S0EvlVXPRR9cr9AjJxGXZE",
     "type":"MD",
     "hide_input_from_viewers":true,
     "hide_output_from_viewers":true
    }
   }
  },
  {
   "cell_type":"code",
   "source":[
    "titanic['Cabin'] = titanic['Cabin'].notnull()"
   ],
   "execution_count":3,
   "outputs":[
    
   ],
   "metadata":{
    "datalore":{
     "node_id":"6q90aD3rLZVKLwHZQLF8Oa",
     "type":"CODE",
     "hide_input_from_viewers":true,
     "hide_output_from_viewers":true
    }
   }
  },
  {
   "cell_type":"markdown",
   "source":[
    "The above code assigns new boolean values to the Cabin column, basically, if the cell was a valid value, it is now True, if it was not valid, it is now False. We could have also dropped the entire column since there was a huge amount of missing data, but keeping at least a shadow of that data might prove valuable later, so we went with this route.\n",
    "\n",
    "Next we will deal with the Embarked column"
   ],
   "attachments":{
    
   },
   "metadata":{
    "datalore":{
     "node_id":"J3ixxAaiZsko3itmQ6xUS2",
     "type":"MD",
     "hide_input_from_viewers":true,
     "hide_output_from_viewers":true
    }
   }
  },
  {
   "cell_type":"code",
   "source":[
    "titanic[\"Embarked\"].fillna(value=titanic[\"Embarked\"].mode()[0],inplace=True)"
   ],
   "execution_count":4,
   "outputs":[
    
   ],
   "metadata":{
    "datalore":{
     "node_id":"rHT8huSt28EGgkdNGTOtKC",
     "type":"CODE",
     "hide_input_from_viewers":true,
     "hide_output_from_viewers":true
    }
   }
  },
  {
   "cell_type":"markdown",
   "source":[
    "We dealt with the missing values in this column in a simple way, by substituting them by the mode. This should not affect out visualisations and predictions since its a very small amount of values being changed, and we keep the rest of the data in those rows.\n",
    "\n",
    "Now to deal with the most problematic one, the Age"
   ],
   "attachments":{
    
   },
   "metadata":{
    "datalore":{
     "node_id":"pwntCprw88DRfdtf94BOAR",
     "type":"MD",
     "hide_input_from_viewers":true,
     "hide_output_from_viewers":true
    }
   }
  },
  {
   "cell_type":"code",
   "source":[
    "titanic[\"Age\"].interpolate(method=\"linear\",inplace=True)"
   ],
   "execution_count":5,
   "outputs":[
    
   ],
   "metadata":{
    "datalore":{
     "node_id":"86GcWr2b0qtOQiUe8TNgxk",
     "type":"CODE",
     "hide_input_from_viewers":true,
     "hide_output_from_viewers":true
    }
   }
  },
  {
   "cell_type":"markdown",
   "source":[
    "There were many ways to deal with this column, we will discuss some of them before going on to the one that was chosen.\n",
    "\n",
    "One option would be to just drop the column since there is a lot of missing data. But in this case, we know that age is most likely an important factor for the survival of the passenger (\"Ladies and children first!\") so losing such important data would not be good for the rest of the study.\n",
    "\n",
    "Another option would be to drop the problematic rows from the dataframe. However, here we would lose a much larger number of rows, which would lower the amount of overall data available for the study to a point where it could affect the results.\n",
    "\n",
    "We could also substitute the NaN values for the mean value of the column, commonly called Mean Imputation. That would keep the data contained in the problematic rows, but it would cause problems with the visualisation techniques used in the second pass and could have unwanted effects on any models we train with the resulting data.\n",
    "\n",
    "There is also the option of filling in the value with the one just previous to it, commonly called Last Observation Carried Forward or LOCF for short. This approach can introduce bias and distort variability since you will have more repeating values. It also is flawed in the way that it assumes the data is random, which we cannot be sure in this dataset.\n",
    "\n",
    "Finally to the chosen technique, Interpolation:\n",
    "\n",
    "Interpolation works by using a mathematical function to approach the missing values. It has problems, such as the high computational cost, and it might not work well for data that has a nonlinear relationship, but it is a good choice for handling the problem posed by this column, it solves the problems of the two drop solutions since it keeps the previously present data, addresses the visualization problems caused from Mean Imputation and is overall better fitted to this dataset than LOCF.\n",
    "\n",
    "For this reason we went with Interpolation as the chosen method, the linear interpolation method was picked for being simpler and less computationally intensive than more complex methods such as spline and polynomial but still giving good results."
   ],
   "attachments":{
    
   },
   "metadata":{
    "datalore":{
     "node_id":"KVyKVsizO2mpq6RBT0fO6N",
     "type":"MD",
     "hide_input_from_viewers":true,
     "hide_output_from_viewers":true
    }
   }
  },
  {
   "cell_type":"code",
   "source":[
    "print(titanic.isna().sum())"
   ],
   "execution_count":6,
   "outputs":[
    {
     "name":"stdout",
     "text":[
      "PassengerId    0\n",
      "Survived       0\n",
      "Pclass         0\n",
      "Name           0\n",
      "Sex            0\n",
      "Age            0\n",
      "SibSp          0\n",
      "Parch          0\n",
      "Ticket         0\n",
      "Fare           0\n",
      "Cabin          0\n",
      "Embarked       0\n",
      "dtype: int64\n"
     ],
     "output_type":"stream"
    }
   ],
   "metadata":{
    "datalore":{
     "node_id":"s9WW3FfK4R9LF4pngde8kK",
     "type":"CODE",
     "hide_input_from_viewers":true,
     "hide_output_from_viewers":true
    }
   }
  },
  {
   "cell_type":"markdown",
   "source":[
    "As you can see from the output given, we now have a perfectly clean dataset to make our visualisations and predictions.\n",
    "\n",
    "Before proceeding to the second pass, we should take a look at the data types. They are mostly good for this dataset, not needing any particular changes, besides for Parch and SibSp which we already did before."
   ],
   "attachments":{
    
   },
   "metadata":{
    "datalore":{
     "node_id":"VRzbKhUxfOkKA6mc2KysxD",
     "type":"MD",
     "hide_input_from_viewers":true,
     "hide_output_from_viewers":true
    }
   }
  },
  {
   "cell_type":"markdown",
   "source":[
    "Some columns contain outliers that can mess up our predictions, namely SipSb and Parch, we can make the situation better by categorizing any value of SibSp at or over 3 as >=3 and changing the column to an ordered categorical feature, and for Parch we can do the same since they both start to get outliers at about the same value."
   ],
   "attachments":{
    
   },
   "metadata":{
    "datalore":{
     "node_id":"c6zYOGJ0v6B98P6z27XhHP",
     "type":"MD",
     "hide_input_from_viewers":true,
     "hide_output_from_viewers":true
    }
   }
  },
  {
   "cell_type":"code",
   "source":[
    "def GtE3 (data):\n",
    "    filteredData = []\n",
    "    for cell in data:\n",
    "        if (int(cell) >= 3):\n",
    "            filteredData.append(\">=3\")\n",
    "        else:\n",
    "            filteredData.append(str(cell))\n",
    "\n",
    "    return filteredData\n",
    "\n",
    "titanic[\"SibSp\"]=GtE3(titanic[\"SibSp\"])\n",
    "\n",
    "titanic[\"Parch\"]=GtE3(titanic[\"Parch\"])\n",
    "\n",
    "titanic[\"SibSp\"] = pd.Categorical(titanic[\"SibSp\"], categories=['0', '1', '2','>=3'], ordered=True)\n",
    "\n",
    "titanic[\"Parch\"] = pd.Categorical(titanic[\"Parch\"], categories=['0', '1', '2','>=3'], ordered=True)\n",
    "\n",
    "titanic[[\"Parch\",\"SibSp\"]]"
   ],
   "execution_count":7,
   "outputs":[
    {
     "data":{
      "text\/html":[
       "<div>\n",
       "<style scoped>\n",
       "    .dataframe tbody tr th:only-of-type {\n",
       "        vertical-align: middle;\n",
       "    }\n",
       "\n",
       "    .dataframe tbody tr th {\n",
       "        vertical-align: top;\n",
       "    }\n",
       "\n",
       "    .dataframe thead th {\n",
       "        text-align: right;\n",
       "    }\n",
       "<\/style>\n",
       "<table border=\"1\" class=\"dataframe\">\n",
       "  <thead>\n",
       "    <tr style=\"text-align: right;\">\n",
       "      <th><\/th>\n",
       "      <th>Parch<\/th>\n",
       "      <th>SibSp<\/th>\n",
       "    <\/tr>\n",
       "  <\/thead>\n",
       "  <tbody>\n",
       "    <tr>\n",
       "      <th>0<\/th>\n",
       "      <td>0<\/td>\n",
       "      <td>1<\/td>\n",
       "    <\/tr>\n",
       "    <tr>\n",
       "      <th>1<\/th>\n",
       "      <td>0<\/td>\n",
       "      <td>1<\/td>\n",
       "    <\/tr>\n",
       "    <tr>\n",
       "      <th>2<\/th>\n",
       "      <td>0<\/td>\n",
       "      <td>0<\/td>\n",
       "    <\/tr>\n",
       "    <tr>\n",
       "      <th>3<\/th>\n",
       "      <td>0<\/td>\n",
       "      <td>1<\/td>\n",
       "    <\/tr>\n",
       "    <tr>\n",
       "      <th>4<\/th>\n",
       "      <td>0<\/td>\n",
       "      <td>0<\/td>\n",
       "    <\/tr>\n",
       "    <tr>\n",
       "      <th>...<\/th>\n",
       "      <td>...<\/td>\n",
       "      <td>...<\/td>\n",
       "    <\/tr>\n",
       "    <tr>\n",
       "      <th>886<\/th>\n",
       "      <td>0<\/td>\n",
       "      <td>0<\/td>\n",
       "    <\/tr>\n",
       "    <tr>\n",
       "      <th>887<\/th>\n",
       "      <td>0<\/td>\n",
       "      <td>0<\/td>\n",
       "    <\/tr>\n",
       "    <tr>\n",
       "      <th>888<\/th>\n",
       "      <td>2<\/td>\n",
       "      <td>1<\/td>\n",
       "    <\/tr>\n",
       "    <tr>\n",
       "      <th>889<\/th>\n",
       "      <td>0<\/td>\n",
       "      <td>0<\/td>\n",
       "    <\/tr>\n",
       "    <tr>\n",
       "      <th>890<\/th>\n",
       "      <td>0<\/td>\n",
       "      <td>0<\/td>\n",
       "    <\/tr>\n",
       "  <\/tbody>\n",
       "<\/table>\n",
       "<p>891 rows × 2 columns<\/p>\n",
       "<\/div>"
      ]
     },
     "metadata":{
      
     },
     "output_type":"display_data"
    }
   ],
   "metadata":{
    "datalore":{
     "node_id":"VgLvZIQPGFUNCgElYabFFH",
     "type":"CODE",
     "hide_input_from_viewers":true,
     "hide_output_from_viewers":true
    }
   }
  },
  {
   "cell_type":"markdown",
   "source":[
    "Those columns are now more digestible from a data analysis standpoint and may provide us with some more valuable data."
   ],
   "attachments":{
    
   },
   "metadata":{
    "datalore":{
     "node_id":"T6AEi5tpb5r7WGxMbbN4iM",
     "type":"MD",
     "hide_input_from_viewers":true,
     "hide_output_from_viewers":true
    }
   }
  },
  {
   "cell_type":"markdown",
   "source":[
    "We can also infer some columns from the provided data that could prove useful to us, first let us add a boolean column that tells us if a passenger is underage or not."
   ],
   "attachments":{
    
   },
   "metadata":{
    "datalore":{
     "node_id":"LtcWI5FSTNuMDVj5AxWamG",
     "type":"MD",
     "hide_input_from_viewers":true,
     "hide_output_from_viewers":true
    }
   }
  },
  {
   "cell_type":"code",
   "source":[
    "titanic[\"isUnderage\"] = np.where(titanic[\"Age\"] < 18, True, False)\n",
    "titanic[[\"Age\",\"isUnderage\"]]"
   ],
   "execution_count":8,
   "outputs":[
    {
     "data":{
      "text\/html":[
       "<div>\n",
       "<style scoped>\n",
       "    .dataframe tbody tr th:only-of-type {\n",
       "        vertical-align: middle;\n",
       "    }\n",
       "\n",
       "    .dataframe tbody tr th {\n",
       "        vertical-align: top;\n",
       "    }\n",
       "\n",
       "    .dataframe thead th {\n",
       "        text-align: right;\n",
       "    }\n",
       "<\/style>\n",
       "<table border=\"1\" class=\"dataframe\">\n",
       "  <thead>\n",
       "    <tr style=\"text-align: right;\">\n",
       "      <th><\/th>\n",
       "      <th>Age<\/th>\n",
       "      <th>isUnderage<\/th>\n",
       "    <\/tr>\n",
       "  <\/thead>\n",
       "  <tbody>\n",
       "    <tr>\n",
       "      <th>0<\/th>\n",
       "      <td>22.0<\/td>\n",
       "      <td>False<\/td>\n",
       "    <\/tr>\n",
       "    <tr>\n",
       "      <th>1<\/th>\n",
       "      <td>38.0<\/td>\n",
       "      <td>False<\/td>\n",
       "    <\/tr>\n",
       "    <tr>\n",
       "      <th>2<\/th>\n",
       "      <td>26.0<\/td>\n",
       "      <td>False<\/td>\n",
       "    <\/tr>\n",
       "    <tr>\n",
       "      <th>3<\/th>\n",
       "      <td>35.0<\/td>\n",
       "      <td>False<\/td>\n",
       "    <\/tr>\n",
       "    <tr>\n",
       "      <th>4<\/th>\n",
       "      <td>35.0<\/td>\n",
       "      <td>False<\/td>\n",
       "    <\/tr>\n",
       "    <tr>\n",
       "      <th>...<\/th>\n",
       "      <td>...<\/td>\n",
       "      <td>...<\/td>\n",
       "    <\/tr>\n",
       "    <tr>\n",
       "      <th>886<\/th>\n",
       "      <td>27.0<\/td>\n",
       "      <td>False<\/td>\n",
       "    <\/tr>\n",
       "    <tr>\n",
       "      <th>887<\/th>\n",
       "      <td>19.0<\/td>\n",
       "      <td>False<\/td>\n",
       "    <\/tr>\n",
       "    <tr>\n",
       "      <th>888<\/th>\n",
       "      <td>22.5<\/td>\n",
       "      <td>False<\/td>\n",
       "    <\/tr>\n",
       "    <tr>\n",
       "      <th>889<\/th>\n",
       "      <td>26.0<\/td>\n",
       "      <td>False<\/td>\n",
       "    <\/tr>\n",
       "    <tr>\n",
       "      <th>890<\/th>\n",
       "      <td>32.0<\/td>\n",
       "      <td>False<\/td>\n",
       "    <\/tr>\n",
       "  <\/tbody>\n",
       "<\/table>\n",
       "<p>891 rows × 2 columns<\/p>\n",
       "<\/div>"
      ]
     },
     "metadata":{
      
     },
     "output_type":"display_data"
    }
   ],
   "metadata":{
    "datalore":{
     "node_id":"XrfutWUWvnRnLqNV5Aqemc",
     "type":"CODE",
     "hide_input_from_viewers":true,
     "hide_output_from_viewers":true
    }
   }
  },
  {
   "cell_type":"markdown",
   "source":[
    "We will also extract the titles from the names to give us a title column."
   ],
   "attachments":{
    
   },
   "metadata":{
    "datalore":{
     "node_id":"DROpc5Pp3LRrGdpSeOgJZi",
     "type":"MD",
     "hide_input_from_viewers":true,
     "hide_output_from_viewers":true
    }
   }
  },
  {
   "cell_type":"code",
   "source":[
    "TitlesList = titanic[\"Name\"].str.findall(r\", .*\\.\")#applies a regex to the names in the list to get the titles, returns a list with the matching titles for each row\n",
    "\n",
    "TitlesDirty = []\n",
    "\n",
    "TitlesClean = []\n",
    "\n",
    "for title in TitlesList:#unpackages the many lists created into simple strings\n",
    "    TitlesDirty.append(title[0])\n",
    "\n",
    "for title in TitlesDirty:#tidies up the resultant strings \n",
    "    title = title.strip(\",\")\n",
    "    title = title.strip(\" \")\n",
    "    title = title.strip(\".\")\n",
    "    TitlesClean.append(title)\n",
    "\n",
    "titanic[\"Title\"] = TitlesClean#creates the new column\n",
    "\n",
    "titanic[[\"Name\",\"Title\"]]"
   ],
   "execution_count":9,
   "outputs":[
    {
     "data":{
      "text\/html":[
       "<div>\n",
       "<style scoped>\n",
       "    .dataframe tbody tr th:only-of-type {\n",
       "        vertical-align: middle;\n",
       "    }\n",
       "\n",
       "    .dataframe tbody tr th {\n",
       "        vertical-align: top;\n",
       "    }\n",
       "\n",
       "    .dataframe thead th {\n",
       "        text-align: right;\n",
       "    }\n",
       "<\/style>\n",
       "<table border=\"1\" class=\"dataframe\">\n",
       "  <thead>\n",
       "    <tr style=\"text-align: right;\">\n",
       "      <th><\/th>\n",
       "      <th>Name<\/th>\n",
       "      <th>Title<\/th>\n",
       "    <\/tr>\n",
       "  <\/thead>\n",
       "  <tbody>\n",
       "    <tr>\n",
       "      <th>0<\/th>\n",
       "      <td>Braund, Mr. Owen Harris<\/td>\n",
       "      <td>Mr<\/td>\n",
       "    <\/tr>\n",
       "    <tr>\n",
       "      <th>1<\/th>\n",
       "      <td>Cumings, Mrs. John Bradley (Florence Briggs Th...<\/td>\n",
       "      <td>Mrs<\/td>\n",
       "    <\/tr>\n",
       "    <tr>\n",
       "      <th>2<\/th>\n",
       "      <td>Heikkinen, Miss. Laina<\/td>\n",
       "      <td>Miss<\/td>\n",
       "    <\/tr>\n",
       "    <tr>\n",
       "      <th>3<\/th>\n",
       "      <td>Futrelle, Mrs. Jacques Heath (Lily May Peel)<\/td>\n",
       "      <td>Mrs<\/td>\n",
       "    <\/tr>\n",
       "    <tr>\n",
       "      <th>4<\/th>\n",
       "      <td>Allen, Mr. William Henry<\/td>\n",
       "      <td>Mr<\/td>\n",
       "    <\/tr>\n",
       "    <tr>\n",
       "      <th>...<\/th>\n",
       "      <td>...<\/td>\n",
       "      <td>...<\/td>\n",
       "    <\/tr>\n",
       "    <tr>\n",
       "      <th>886<\/th>\n",
       "      <td>Montvila, Rev. Juozas<\/td>\n",
       "      <td>Rev<\/td>\n",
       "    <\/tr>\n",
       "    <tr>\n",
       "      <th>887<\/th>\n",
       "      <td>Graham, Miss. Margaret Edith<\/td>\n",
       "      <td>Miss<\/td>\n",
       "    <\/tr>\n",
       "    <tr>\n",
       "      <th>888<\/th>\n",
       "      <td>Johnston, Miss. Catherine Helen \"Carrie\"<\/td>\n",
       "      <td>Miss<\/td>\n",
       "    <\/tr>\n",
       "    <tr>\n",
       "      <th>889<\/th>\n",
       "      <td>Behr, Mr. Karl Howell<\/td>\n",
       "      <td>Mr<\/td>\n",
       "    <\/tr>\n",
       "    <tr>\n",
       "      <th>890<\/th>\n",
       "      <td>Dooley, Mr. Patrick<\/td>\n",
       "      <td>Mr<\/td>\n",
       "    <\/tr>\n",
       "  <\/tbody>\n",
       "<\/table>\n",
       "<p>891 rows × 2 columns<\/p>\n",
       "<\/div>"
      ]
     },
     "metadata":{
      
     },
     "output_type":"display_data"
    }
   ],
   "metadata":{
    "datalore":{
     "node_id":"OgwdNrjEd23Az57VUFhF79",
     "type":"CODE",
     "hide_input_from_viewers":true,
     "hide_output_from_viewers":true
    }
   }
  },
  {
   "cell_type":"code",
   "source":[
    "titanic[\"Title\"].value_counts()"
   ],
   "execution_count":10,
   "outputs":[
    {
     "data":{
      "text\/html":[
       "<pre>Mr                          517\n",
       "Miss                        182\n",
       "Mrs                         124\n",
       "Master                       40\n",
       "Dr                            7\n",
       "Rev                           6\n",
       "Col                           2\n",
       "Mlle                          2\n",
       "Major                         2\n",
       "Ms                            1\n",
       "Mrs. Martin (Elizabeth L      1\n",
       "Lady                          1\n",
       "Sir                           1\n",
       "Mme                           1\n",
       "Don                           1\n",
       "Capt                          1\n",
       "the Countess                  1\n",
       "Jonkheer                      1\n",
       "Name: Title, dtype: int64<\/pre>"
      ]
     },
     "metadata":{
      
     },
     "output_type":"display_data"
    }
   ],
   "metadata":{
    "datalore":{
     "node_id":"zNedQxNu8kGIv3RnthKaYu",
     "type":"CODE",
     "hide_input_from_viewers":true,
     "hide_output_from_viewers":true
    }
   }
  },
  {
   "cell_type":"markdown",
   "source":[
    "This is already good, but there are too many unique values that occur very rarely. We can improve this by grouping up some of the more obscure titles with some of the more normal ones creating groups"
   ],
   "attachments":{
    
   },
   "metadata":{
    "datalore":{
     "node_id":"3UIBV4MItmlOKifQX884X4",
     "type":"MD",
     "hide_input_from_viewers":true,
     "hide_output_from_viewers":true
    }
   }
  },
  {
   "cell_type":"code",
   "source":[
    "simplifiedTitles =[]\n",
    "for title in titanic[\"Title\"]:\n",
    "    if title == \"Mlle\" or title == \"Ms\" or title == \"Miss\":\n",
    "        simplifiedTitles.append(\"Miss\")\n",
    "    elif title == \"Mme\" or title ==\"Mrs. Martin (Elizabeth L\" or title == \"Mrs\":\n",
    "        simplifiedTitles.append(\"Mrs\")\n",
    "    elif title ==\"Mr\":\n",
    "        simplifiedTitles.append(\"Mr\")\n",
    "    elif title ==\"Master\":\n",
    "        simplifiedTitles.append(\"Master\")\n",
    "    else:\n",
    "        simplifiedTitles.append(\"rare_Title\")\n",
    "\n",
    "titanic[\"Title\"] = simplifiedTitles\n",
    "\n",
    "titanic[[\"Name\",\"Title\"]]"
   ],
   "execution_count":11,
   "outputs":[
    {
     "data":{
      "text\/html":[
       "<div>\n",
       "<style scoped>\n",
       "    .dataframe tbody tr th:only-of-type {\n",
       "        vertical-align: middle;\n",
       "    }\n",
       "\n",
       "    .dataframe tbody tr th {\n",
       "        vertical-align: top;\n",
       "    }\n",
       "\n",
       "    .dataframe thead th {\n",
       "        text-align: right;\n",
       "    }\n",
       "<\/style>\n",
       "<table border=\"1\" class=\"dataframe\">\n",
       "  <thead>\n",
       "    <tr style=\"text-align: right;\">\n",
       "      <th><\/th>\n",
       "      <th>Name<\/th>\n",
       "      <th>Title<\/th>\n",
       "    <\/tr>\n",
       "  <\/thead>\n",
       "  <tbody>\n",
       "    <tr>\n",
       "      <th>0<\/th>\n",
       "      <td>Braund, Mr. Owen Harris<\/td>\n",
       "      <td>Mr<\/td>\n",
       "    <\/tr>\n",
       "    <tr>\n",
       "      <th>1<\/th>\n",
       "      <td>Cumings, Mrs. John Bradley (Florence Briggs Th...<\/td>\n",
       "      <td>Mrs<\/td>\n",
       "    <\/tr>\n",
       "    <tr>\n",
       "      <th>2<\/th>\n",
       "      <td>Heikkinen, Miss. Laina<\/td>\n",
       "      <td>Miss<\/td>\n",
       "    <\/tr>\n",
       "    <tr>\n",
       "      <th>3<\/th>\n",
       "      <td>Futrelle, Mrs. Jacques Heath (Lily May Peel)<\/td>\n",
       "      <td>Mrs<\/td>\n",
       "    <\/tr>\n",
       "    <tr>\n",
       "      <th>4<\/th>\n",
       "      <td>Allen, Mr. William Henry<\/td>\n",
       "      <td>Mr<\/td>\n",
       "    <\/tr>\n",
       "    <tr>\n",
       "      <th>...<\/th>\n",
       "      <td>...<\/td>\n",
       "      <td>...<\/td>\n",
       "    <\/tr>\n",
       "    <tr>\n",
       "      <th>886<\/th>\n",
       "      <td>Montvila, Rev. Juozas<\/td>\n",
       "      <td>rare_Title<\/td>\n",
       "    <\/tr>\n",
       "    <tr>\n",
       "      <th>887<\/th>\n",
       "      <td>Graham, Miss. Margaret Edith<\/td>\n",
       "      <td>Miss<\/td>\n",
       "    <\/tr>\n",
       "    <tr>\n",
       "      <th>888<\/th>\n",
       "      <td>Johnston, Miss. Catherine Helen \"Carrie\"<\/td>\n",
       "      <td>Miss<\/td>\n",
       "    <\/tr>\n",
       "    <tr>\n",
       "      <th>889<\/th>\n",
       "      <td>Behr, Mr. Karl Howell<\/td>\n",
       "      <td>Mr<\/td>\n",
       "    <\/tr>\n",
       "    <tr>\n",
       "      <th>890<\/th>\n",
       "      <td>Dooley, Mr. Patrick<\/td>\n",
       "      <td>Mr<\/td>\n",
       "    <\/tr>\n",
       "  <\/tbody>\n",
       "<\/table>\n",
       "<p>891 rows × 2 columns<\/p>\n",
       "<\/div>"
      ]
     },
     "metadata":{
      
     },
     "output_type":"display_data"
    }
   ],
   "metadata":{
    "datalore":{
     "node_id":"8n6jop3uOEaverlmjfKmzd",
     "type":"CODE",
     "hide_input_from_viewers":true,
     "hide_output_from_viewers":true
    }
   }
  },
  {
   "cell_type":"code",
   "source":[
    "titanic[\"Title\"].value_counts()"
   ],
   "execution_count":12,
   "outputs":[
    {
     "data":{
      "text\/html":[
       "<pre>Mr            517\n",
       "Miss          185\n",
       "Mrs           126\n",
       "Master         40\n",
       "rare_Title     23\n",
       "Name: Title, dtype: int64<\/pre>"
      ]
     },
     "metadata":{
      
     },
     "output_type":"display_data"
    }
   ],
   "metadata":{
    "datalore":{
     "node_id":"hiiBbhyRwsmFjOZ3JGv3g5",
     "type":"CODE",
     "hide_input_from_viewers":true,
     "hide_output_from_viewers":true
    }
   }
  },
  {
   "cell_type":"markdown",
   "source":[
    "We now have a more simplified version of the Title column which will be more useful for our data investigations.\n",
    "\n",
    "Some columns have outliers and other kinds of undesirable features, namely Fare has a few outliers at value 0 and at very high values.I decided to leave the outliers in the data, since they are few and could reveal something important."
   ],
   "attachments":{
    
   },
   "metadata":{
    "datalore":{
     "node_id":"pyWT5uBQSoVuP91qiIrlbk",
     "type":"MD",
     "hide_input_from_viewers":true,
     "hide_output_from_viewers":true
    }
   }
  },
  {
   "cell_type":"markdown",
   "source":[
    "We could also make the ticket feature more useful by transforming it into another categorical boolean feature based on if the ticket had only the numbers or contained something before the numbers."
   ],
   "attachments":{
    
   },
   "metadata":{
    "datalore":{
     "node_id":"CS5agmxfXbHfzJE8zxRvF3",
     "type":"MD",
     "hide_input_from_viewers":true,
     "hide_output_from_viewers":true
    }
   }
  },
  {
   "cell_type":"code",
   "source":[
    "titanic[\"detailedTicket\"] = titanic[\"Ticket\"].str.contains(r\" \")#simple regex that just looks for the space inbetween the numbers and the letters at the beginning\n",
    "\n",
    "titanic[[\"Ticket\",\"detailedTicket\"]]"
   ],
   "execution_count":13,
   "outputs":[
    {
     "data":{
      "text\/html":[
       "<div>\n",
       "<style scoped>\n",
       "    .dataframe tbody tr th:only-of-type {\n",
       "        vertical-align: middle;\n",
       "    }\n",
       "\n",
       "    .dataframe tbody tr th {\n",
       "        vertical-align: top;\n",
       "    }\n",
       "\n",
       "    .dataframe thead th {\n",
       "        text-align: right;\n",
       "    }\n",
       "<\/style>\n",
       "<table border=\"1\" class=\"dataframe\">\n",
       "  <thead>\n",
       "    <tr style=\"text-align: right;\">\n",
       "      <th><\/th>\n",
       "      <th>Ticket<\/th>\n",
       "      <th>detailedTicket<\/th>\n",
       "    <\/tr>\n",
       "  <\/thead>\n",
       "  <tbody>\n",
       "    <tr>\n",
       "      <th>0<\/th>\n",
       "      <td>A\/5 21171<\/td>\n",
       "      <td>True<\/td>\n",
       "    <\/tr>\n",
       "    <tr>\n",
       "      <th>1<\/th>\n",
       "      <td>PC 17599<\/td>\n",
       "      <td>True<\/td>\n",
       "    <\/tr>\n",
       "    <tr>\n",
       "      <th>2<\/th>\n",
       "      <td>STON\/O2. 3101282<\/td>\n",
       "      <td>True<\/td>\n",
       "    <\/tr>\n",
       "    <tr>\n",
       "      <th>3<\/th>\n",
       "      <td>113803<\/td>\n",
       "      <td>False<\/td>\n",
       "    <\/tr>\n",
       "    <tr>\n",
       "      <th>4<\/th>\n",
       "      <td>373450<\/td>\n",
       "      <td>False<\/td>\n",
       "    <\/tr>\n",
       "    <tr>\n",
       "      <th>...<\/th>\n",
       "      <td>...<\/td>\n",
       "      <td>...<\/td>\n",
       "    <\/tr>\n",
       "    <tr>\n",
       "      <th>886<\/th>\n",
       "      <td>211536<\/td>\n",
       "      <td>False<\/td>\n",
       "    <\/tr>\n",
       "    <tr>\n",
       "      <th>887<\/th>\n",
       "      <td>112053<\/td>\n",
       "      <td>False<\/td>\n",
       "    <\/tr>\n",
       "    <tr>\n",
       "      <th>888<\/th>\n",
       "      <td>W.\/C. 6607<\/td>\n",
       "      <td>True<\/td>\n",
       "    <\/tr>\n",
       "    <tr>\n",
       "      <th>889<\/th>\n",
       "      <td>111369<\/td>\n",
       "      <td>False<\/td>\n",
       "    <\/tr>\n",
       "    <tr>\n",
       "      <th>890<\/th>\n",
       "      <td>370376<\/td>\n",
       "      <td>False<\/td>\n",
       "    <\/tr>\n",
       "  <\/tbody>\n",
       "<\/table>\n",
       "<p>891 rows × 2 columns<\/p>\n",
       "<\/div>"
      ]
     },
     "metadata":{
      
     },
     "output_type":"display_data"
    }
   ],
   "metadata":{
    "datalore":{
     "node_id":"H4jcjBnFhkGFsWOFMOeOPe",
     "type":"CODE",
     "hide_input_from_viewers":true,
     "hide_output_from_viewers":true
    }
   }
  },
  {
   "cell_type":"markdown",
   "source":[
    "We will now proceed to analyse the individual features and their possible relationship to the target, starting with Sex."
   ],
   "attachments":{
    
   },
   "metadata":{
    "datalore":{
     "node_id":"3RtUSMm6xdRlUk0L06UlmI",
     "type":"MD",
     "hide_input_from_viewers":true,
     "hide_output_from_viewers":true
    }
   }
  },
  {
   "cell_type":"code",
   "source":[
    "sns.countplot(data=titanic,x=\"Sex\")"
   ],
   "execution_count":14,
   "outputs":[
    {
     "data":{
      "text\/plain":[
       "<Axes: xlabel='Sex', ylabel='count'>"
      ]
     },
     "metadata":{
      
     },
     "output_type":"display_data"
    },
    {
     "data":{
      "image\/png":"[encoded data removed]"
     },
     "metadata":{
      "image\/png":{
       
      }
     },
     "output_type":"display_data"
    }
   ],
   "metadata":{
    "datalore":{
     "node_id":"NYCOLx9h4RLM22xk0DDRTG",
     "type":"CODE",
     "hide_input_from_viewers":true,
     "hide_output_from_viewers":true
    }
   }
  },
  {
   "cell_type":"markdown",
   "source":[
    "It is a simple categorical feature that applies to every single row. We can try and use a countplot with the hue indication survival to try and see if there is any correlation between Sex and Survived"
   ],
   "attachments":{
    
   },
   "metadata":{
    "datalore":{
     "node_id":"6sgKDIMB4woEKHbYtgmpFa",
     "type":"MD",
     "hide_input_from_viewers":true,
     "hide_output_from_viewers":true
    }
   }
  },
  {
   "cell_type":"code",
   "source":[
    "sns.countplot(data=titanic,x=\"Sex\",hue =\"Survived\")"
   ],
   "execution_count":15,
   "outputs":[
    {
     "data":{
      "text\/plain":[
       "<Axes: xlabel='Sex', ylabel='count'>"
      ]
     },
     "metadata":{
      
     },
     "output_type":"display_data"
    },
    {
     "data":{
      "image\/png":"[encoded data removed]"
     },
     "metadata":{
      "image\/png":{
       
      }
     },
     "output_type":"display_data"
    }
   ],
   "metadata":{
    "datalore":{
     "node_id":"rVNSnvVQ55w5Gry6YyBB0v",
     "type":"CODE",
     "hide_input_from_viewers":true,
     "hide_output_from_viewers":true
    }
   }
  },
  {
   "cell_type":"markdown",
   "source":[
    "As we can see, there seems to be a huge correlation between Sex and Survived, as expected from the context.\n",
    "\n",
    "We will proceed to analyse the Age feature which is numerical in nature, so we will start by generating a histplot to get a general sense of the data."
   ],
   "attachments":{
    
   },
   "metadata":{
    "datalore":{
     "node_id":"KeZMpnJc5xpPQ9kLbOt2kk",
     "type":"MD",
     "hide_input_from_viewers":true,
     "hide_output_from_viewers":true
    }
   }
  },
  {
   "cell_type":"code",
   "source":[
    "sns.histplot(data=titanic,x=\"Age\",binwidth=5,kde=True)"
   ],
   "execution_count":16,
   "outputs":[
    {
     "data":{
      "text\/plain":[
       "<Axes: xlabel='Age', ylabel='Count'>"
      ]
     },
     "metadata":{
      
     },
     "output_type":"display_data"
    },
    {
     "data":{
      "image\/png":"[encoded data removed]"
     },
     "metadata":{
      "image\/png":{
       
      }
     },
     "output_type":"display_data"
    }
   ],
   "metadata":{
    "datalore":{
     "node_id":"i8Wcq1QE4bClP1NE0zcTV1",
     "type":"CODE",
     "hide_input_from_viewers":true,
     "hide_output_from_viewers":true
    }
   }
  },
  {
   "cell_type":"markdown",
   "source":[
    "As we can see, the Age feature follows something close to a normal distribution, but there are some abnormalities. Let's try geting a QQplot to get some details"
   ],
   "attachments":{
    
   },
   "metadata":{
    "datalore":{
     "node_id":"Ar7fknxEltWeUrk1iyh9hB",
     "type":"MD",
     "hide_input_from_viewers":true,
     "hide_output_from_viewers":true
    }
   }
  },
  {
   "cell_type":"code",
   "source":[
    "pg.qqplot(titanic[\"Age\"],dist=\"norm\")"
   ],
   "execution_count":17,
   "outputs":[
    {
     "data":{
      "text\/plain":[
       "<Axes: xlabel='Theoretical quantiles', ylabel='Ordered quantiles'>"
      ]
     },
     "metadata":{
      
     },
     "output_type":"display_data"
    },
    {
     "data":{
      "image\/png":"[encoded data removed]"
     },
     "metadata":{
      "image\/png":{
       
      }
     },
     "output_type":"display_data"
    }
   ],
   "metadata":{
    "datalore":{
     "node_id":"c1hqzNWPXm3eqLTtcTgKQO",
     "type":"CODE",
     "hide_input_from_viewers":true,
     "hide_output_from_viewers":true
    }
   }
  },
  {
   "cell_type":"markdown",
   "source":[
    "As can be seen from the QQplot it is very close to a normal distribution, with the only significant discrepancy being in the very young, some might be inclined to delete or modify those values in some way, but with the context from the source of the data that deviation can be explained, parents would be more inclined to bring their younger children with them on the trip since they require more attention and other teenagers and young adults probably wouldn't have enough money to go on their own. That is my personal insight derived from the data and context, so I believe those values are actually quite important to predicting survival and will be keeping them as is. "
   ],
   "attachments":{
    
   },
   "metadata":{
    "datalore":{
     "node_id":"t8OsKpCXgSZto4Q2t0ekU3",
     "type":"MD",
     "hide_input_from_viewers":true,
     "hide_output_from_viewers":true
    }
   }
  },
  {
   "cell_type":"markdown",
   "source":[
    "We will generate some violin plots to see if we can gain any more insights"
   ],
   "attachments":{
    
   },
   "metadata":{
    "datalore":{
     "node_id":"8Ln6EUn0iZVRs4SXVLIGQ0",
     "type":"MD",
     "hide_input_from_viewers":true,
     "hide_output_from_viewers":true
    }
   }
  },
  {
   "cell_type":"code",
   "source":[
    "sns.violinplot(data=titanic,x=\"Survived\",y=\"Age\")"
   ],
   "execution_count":18,
   "outputs":[
    {
     "data":{
      "text\/plain":[
       "<Axes: xlabel='Survived', ylabel='Age'>"
      ]
     },
     "metadata":{
      
     },
     "output_type":"display_data"
    },
    {
     "data":{
      "image\/png":"[encoded data removed]"
     },
     "metadata":{
      "image\/png":{
       
      }
     },
     "output_type":"display_data"
    }
   ],
   "metadata":{
    "datalore":{
     "node_id":"loc2CWAXdj09jolCniuRci",
     "type":"CODE",
     "hide_input_from_viewers":true,
     "hide_output_from_viewers":true
    }
   }
  },
  {
   "cell_type":"markdown",
   "source":[
    "As expected, using the violin plot we can see that even though the average age is about the same for both survivors and those who did not make it, there is a distinctly larger \"tail\" on the plot for those who survived, which points us in the way of there being a correlation between Survived and Age\n",
    "\n",
    "We can use the previously generated isUnderage column to get a quick visualisation of that"
   ],
   "attachments":{
    
   },
   "metadata":{
    "datalore":{
     "node_id":"0HJHoWeoSfnLKaYwhghsIC",
     "type":"MD",
     "hide_input_from_viewers":true,
     "hide_output_from_viewers":true
    }
   }
  },
  {
   "cell_type":"code",
   "source":[
    "sns.countplot(data=titanic,x =\"isUnderage\",hue=\"Survived\")"
   ],
   "execution_count":19,
   "outputs":[
    {
     "data":{
      "text\/plain":[
       "<Axes: xlabel='isUnderage', ylabel='count'>"
      ]
     },
     "metadata":{
      
     },
     "output_type":"display_data"
    },
    {
     "data":{
      "image\/png":"[encoded data removed]"
     },
     "metadata":{
      "image\/png":{
       
      }
     },
     "output_type":"display_data"
    }
   ],
   "metadata":{
    "datalore":{
     "node_id":"Mt0FShmwJIWVfhuiguOPFY",
     "type":"CODE",
     "hide_input_from_viewers":true,
     "hide_output_from_viewers":true
    }
   }
  },
  {
   "cell_type":"markdown",
   "source":[
    "As predicted, there seems to be a significantly large percentage of survivors among the younger passengers, indicating a strong correlation.\n",
    "\n",
    "We can also do a plot accounting for Age and Sex to try and gain some more insights."
   ],
   "attachments":{
    
   },
   "metadata":{
    "datalore":{
     "node_id":"enAo8PvDgPo1WenMSaCPcd",
     "type":"MD",
     "hide_input_from_viewers":true,
     "hide_output_from_viewers":true
    }
   }
  },
  {
   "cell_type":"code",
   "source":[
    "sns.violinplot(data=titanic,x=\"Survived\",y=\"Age\",hue =\"Sex\",split=True,inner=\"quart\")"
   ],
   "execution_count":20,
   "outputs":[
    {
     "data":{
      "text\/plain":[
       "<Axes: xlabel='Survived', ylabel='Age'>"
      ]
     },
     "metadata":{
      
     },
     "output_type":"display_data"
    },
    {
     "data":{
      "image\/png":"[encoded data removed]"
     },
     "metadata":{
      "image\/png":{
       
      }
     },
     "output_type":"display_data"
    }
   ],
   "metadata":{
    "datalore":{
     "node_id":"fqWALchMZAeJPNIfJJuL2f",
     "type":"CODE",
     "hide_input_from_viewers":true,
     "hide_output_from_viewers":true
    }
   }
  },
  {
   "cell_type":"markdown",
   "source":[
    "For females, there doesn't seem to be much correlation between Age and Survived, but for males, there is a clear correlation between Survived and Age.\n",
    "\n",
    "This is an interesting feature that can affect later prediction and modeling tasks"
   ],
   "attachments":{
    
   },
   "metadata":{
    "datalore":{
     "node_id":"l6OqA7TMMeFUX8uUOQZqap",
     "type":"MD",
     "hide_input_from_viewers":true,
     "hide_output_from_viewers":true
    }
   }
  },
  {
   "cell_type":"markdown",
   "source":[
    "We will now explore the Fare column, starting in the same way that we did with Age"
   ],
   "attachments":{
    
   },
   "metadata":{
    "datalore":{
     "node_id":"sATAhQQGDMxeIzNJScJn14",
     "type":"MD",
     "hide_input_from_viewers":true,
     "hide_output_from_viewers":true
    }
   }
  },
  {
   "cell_type":"code",
   "source":[
    "sns.histplot(data=titanic,x=\"Fare\",binwidth=20,kde=True)"
   ],
   "execution_count":21,
   "outputs":[
    {
     "data":{
      "text\/plain":[
       "<Axes: xlabel='Fare', ylabel='Count'>"
      ]
     },
     "metadata":{
      
     },
     "output_type":"display_data"
    },
    {
     "data":{
      "image\/png":"[encoded data removed]"
     },
     "metadata":{
      "image\/png":{
       
      }
     },
     "output_type":"display_data"
    }
   ],
   "metadata":{
    "datalore":{
     "node_id":"mjlU6uisQzyrJDlMbzL1Oh",
     "type":"CODE",
     "hide_input_from_viewers":true,
     "hide_output_from_viewers":true
    }
   }
  },
  {
   "cell_type":"markdown",
   "source":[
    "The distribution for Fare is more excentric than Age, but there still seems to be an overall distribution underlying that data. We can verify that with a QQplot"
   ],
   "attachments":{
    
   },
   "metadata":{
    "datalore":{
     "node_id":"Rp21AtMlwYdOQupqHhLXlI",
     "type":"MD",
     "hide_input_from_viewers":true,
     "hide_output_from_viewers":true
    }
   }
  },
  {
   "cell_type":"code",
   "source":[
    "pg.qqplot(titanic[\"Fare\"],dist=\"norm\")"
   ],
   "execution_count":22,
   "outputs":[
    {
     "data":{
      "text\/plain":[
       "<Axes: xlabel='Theoretical quantiles', ylabel='Ordered quantiles'>"
      ]
     },
     "metadata":{
      
     },
     "output_type":"display_data"
    },
    {
     "data":{
      "image\/png":"[encoded data removed]"
     },
     "metadata":{
      "image\/png":{
       
      }
     },
     "output_type":"display_data"
    }
   ],
   "metadata":{
    "datalore":{
     "node_id":"wcrnoDpdLhpVJx2SnN4sFS",
     "type":"CODE",
     "hide_input_from_viewers":true,
     "hide_output_from_viewers":true
    }
   }
  },
  {
   "cell_type":"markdown",
   "source":[
    "The Fare does not relate well to a normal distribution, we can try another distribution to see if we can find an apropriate one"
   ],
   "attachments":{
    
   },
   "metadata":{
    "datalore":{
     "node_id":"UHIqaupVdGTeLnYyYns72s",
     "type":"MD",
     "hide_input_from_viewers":true,
     "hide_output_from_viewers":true
    }
   }
  },
  {
   "cell_type":"code",
   "source":[
    "pg.qqplot(titanic[\"Fare\"],dist=\"expon\")"
   ],
   "execution_count":23,
   "outputs":[
    {
     "data":{
      "text\/plain":[
       "<Axes: xlabel='Theoretical quantiles', ylabel='Ordered quantiles'>"
      ]
     },
     "metadata":{
      
     },
     "output_type":"display_data"
    },
    {
     "data":{
      "image\/png":"[encoded data removed]"
     },
     "metadata":{
      "image\/png":{
       
      }
     },
     "output_type":"display_data"
    }
   ],
   "metadata":{
    "datalore":{
     "node_id":"VVHs1FoaHXyFuvbc6u7SXJ",
     "type":"CODE",
     "hide_input_from_viewers":true,
     "hide_output_from_viewers":true
    }
   }
  },
  {
   "cell_type":"markdown",
   "source":[
    "As can be seen from the $R^2$ value, the distribution of values in Fare falls closer to an exponential distribution.\n",
    "\n",
    "We can try plotting another histogram with survived as the hue to see if there is any correlation between fare and survived."
   ],
   "attachments":{
    
   },
   "metadata":{
    "datalore":{
     "node_id":"25KfsgPBi7SrCSwJBHBgAg",
     "type":"MD",
     "hide_input_from_viewers":true,
     "hide_output_from_viewers":true
    }
   }
  },
  {
   "cell_type":"code",
   "source":[
    "sns.histplot(data=titanic,x=\"Fare\",hue=\"Survived\",binwidth=50,multiple=\"stack\")"
   ],
   "execution_count":24,
   "outputs":[
    {
     "data":{
      "text\/plain":[
       "<Axes: xlabel='Fare', ylabel='Count'>"
      ]
     },
     "metadata":{
      
     },
     "output_type":"display_data"
    },
    {
     "data":{
      "image\/png":"[encoded data removed]"
     },
     "metadata":{
      "image\/png":{
       
      }
     },
     "output_type":"display_data"
    }
   ],
   "metadata":{
    "datalore":{
     "node_id":"4REEy5E1DT1GhMlopZQeMu",
     "type":"CODE",
     "hide_input_from_viewers":true,
     "hide_output_from_viewers":true
    }
   }
  },
  {
   "cell_type":"markdown",
   "source":[
    "There seems to be a slight correlation between Fare and Survived, with a larger percentage of passengers that paid a more expensive fare surviving. However, it is not so easy to tell with the current way the graph is plotted even with the larger bins, to try and solve that we can try using a log scale"
   ],
   "attachments":{
    
   },
   "metadata":{
    "datalore":{
     "node_id":"ZgAWwNq4GcTnfpLDQ9URet",
     "type":"MD",
     "hide_input_from_viewers":true,
     "hide_output_from_viewers":true
    }
   }
  },
  {
   "cell_type":"code",
   "source":[
    "sns.histplot(data=titanic,x=\"Fare\",hue=\"Survived\",bins=15,multiple=\"stack\",log_scale=True)"
   ],
   "execution_count":25,
   "outputs":[
    {
     "data":{
      "text\/plain":[
       "<Axes: xlabel='Fare', ylabel='Count'>"
      ]
     },
     "metadata":{
      
     },
     "output_type":"display_data"
    },
    {
     "data":{
      "image\/png":"[encoded data removed]"
     },
     "metadata":{
      "image\/png":{
       
      }
     },
     "output_type":"display_data"
    }
   ],
   "metadata":{
    "datalore":{
     "node_id":"ejUymYYKzokQkSF4usZb4q",
     "type":"CODE",
     "hide_input_from_viewers":true,
     "hide_output_from_viewers":true
    }
   }
  },
  {
   "cell_type":"markdown",
   "source":[
    "With the new graph the relationship is even more evident, showing us that Fare is probably a good predictor for survived"
   ],
   "attachments":{
    
   },
   "metadata":{
    "datalore":{
     "node_id":"JGjPY5NY5d0IykTtOQlokz",
     "type":"MD",
     "hide_input_from_viewers":true,
     "hide_output_from_viewers":true
    }
   }
  },
  {
   "cell_type":"markdown",
   "source":[
    "Next, let us explore the previously created Titles column. That column was created to try and extract some insight from the otherwise useless (from the data analysis perspective) names column. Since it had too many unique values for a categorical feature, we simplified it into a more digestible feature that should still retain the same correlations.\n",
    "\n",
    "We will start with a simple countplot."
   ],
   "attachments":{
    
   },
   "metadata":{
    "datalore":{
     "node_id":"P0Ld9gLubBfC19HTHJDRWr",
     "type":"MD",
     "hide_input_from_viewers":true,
     "hide_output_from_viewers":true
    }
   }
  },
  {
   "cell_type":"code",
   "source":[
    "sns.countplot(data=titanic,x=\"Title\")"
   ],
   "execution_count":26,
   "outputs":[
    {
     "data":{
      "text\/plain":[
       "<Axes: xlabel='Title', ylabel='count'>"
      ]
     },
     "metadata":{
      
     },
     "output_type":"display_data"
    },
    {
     "data":{
      "image\/png":"[encoded data removed]"
     },
     "metadata":{
      "image\/png":{
       
      }
     },
     "output_type":"display_data"
    }
   ],
   "metadata":{
    "datalore":{
     "node_id":"2GCqcsnTh7afsMceLq9qSO",
     "type":"CODE",
     "hide_input_from_viewers":true,
     "hide_output_from_viewers":true
    }
   }
  },
  {
   "cell_type":"markdown",
   "source":[
    "We can try using a countplot to try and find correlations"
   ],
   "attachments":{
    
   },
   "metadata":{
    "datalore":{
     "node_id":"fREm1ZWGRfRY2XkBhipFj5",
     "type":"MD",
     "hide_input_from_viewers":true,
     "hide_output_from_viewers":true
    }
   }
  },
  {
   "cell_type":"code",
   "source":[
    "sns.countplot(data=titanic,x =\"Title\",hue=\"Survived\")"
   ],
   "execution_count":27,
   "outputs":[
    {
     "data":{
      "text\/plain":[
       "<Axes: xlabel='Title', ylabel='count'>"
      ]
     },
     "metadata":{
      
     },
     "output_type":"display_data"
    },
    {
     "data":{
      "image\/png":"[encoded data removed]"
     },
     "metadata":{
      "image\/png":{
       
      }
     },
     "output_type":"display_data"
    }
   ],
   "metadata":{
    "datalore":{
     "node_id":"FO1gMIL6HWKCWGPkkMZTkm",
     "type":"CODE",
     "hide_input_from_viewers":true,
     "hide_output_from_viewers":true
    }
   }
  },
  {
   "cell_type":"markdown",
   "source":[
    "At first glance, this feature seems of great importance, but wait, let's try and find some correlations between Title and some other previously studied features"
   ],
   "attachments":{
    
   },
   "metadata":{
    "datalore":{
     "node_id":"oUw6HCaJz75xeRexsw3plx",
     "type":"MD",
     "hide_input_from_viewers":true,
     "hide_output_from_viewers":true
    }
   }
  },
  {
   "cell_type":"code",
   "source":[
    "sns.countplot(data=titanic,x =\"Title\",hue=\"Sex\")"
   ],
   "execution_count":28,
   "outputs":[
    {
     "data":{
      "text\/plain":[
       "<Axes: xlabel='Title', ylabel='count'>"
      ]
     },
     "metadata":{
      
     },
     "output_type":"display_data"
    },
    {
     "data":{
      "image\/png":"[encoded data removed]"
     },
     "metadata":{
      "image\/png":{
       
      }
     },
     "output_type":"display_data"
    }
   ],
   "metadata":{
    "datalore":{
     "node_id":"iIrBNPR1bswjNti1GaF13E",
     "type":"CODE",
     "hide_input_from_viewers":true,
     "hide_output_from_viewers":true
    }
   }
  },
  {
   "cell_type":"markdown",
   "source":[
    "This is not great, it seems that the titles that previously seemed correlated to survival and just another way to indicate Sex, which we already linked to Survival.\n",
    "\n",
    "There is still hope, the Master title in particular seems interesting for being all male and having a higher than usual survival rate, but we must look for other correlations first."
   ],
   "attachments":{
    
   },
   "metadata":{
    "datalore":{
     "node_id":"vSbybgY9DFDKwNSnxy7Qju",
     "type":"MD",
     "hide_input_from_viewers":true,
     "hide_output_from_viewers":true
    }
   }
  },
  {
   "cell_type":"code",
   "source":[
    "sns.histplot(data=titanic,x=\"Age\",hue=\"Title\",binwidth=10,multiple=\"stack\")"
   ],
   "execution_count":29,
   "outputs":[
    {
     "data":{
      "text\/plain":[
       "<Axes: xlabel='Age', ylabel='Count'>"
      ]
     },
     "metadata":{
      
     },
     "output_type":"display_data"
    },
    {
     "data":{
      "image\/png":"[encoded data removed]"
     },
     "metadata":{
      "image\/png":{
       
      }
     },
     "output_type":"display_data"
    }
   ],
   "metadata":{
    "datalore":{
     "node_id":"RDuLCWYSmeO2t3NR4NrAsR",
     "type":"CODE",
     "hide_input_from_viewers":true,
     "hide_output_from_viewers":true
    }
   }
  },
  {
   "cell_type":"markdown",
   "source":[
    "This basically settles it, the other potentially useful title is related to Age, we already found out that Age is correlated to Survived, especially so in males, so younger males having a larger than usual change of surviving is no news.\n",
    "\n",
    "Thus, the Title feature ended up proving itself not very useful, and most likely should not be a priority for prediction."
   ],
   "attachments":{
    
   },
   "metadata":{
    "datalore":{
     "node_id":"2P52z7NiS3AHO0huyuqtzK",
     "type":"MD",
     "hide_input_from_viewers":true,
     "hide_output_from_viewers":true
    }
   }
  },
  {
   "cell_type":"markdown",
   "source":[
    "We will now take a quick look at Cabin to see if that can help us predict Survival"
   ],
   "attachments":{
    
   },
   "metadata":{
    "datalore":{
     "node_id":"haL9n7kNAWfp4Hax9Ce129",
     "type":"MD",
     "hide_input_from_viewers":true,
     "hide_output_from_viewers":true
    }
   }
  },
  {
   "cell_type":"code",
   "source":[
    "sns.countplot(data=titanic,x=\"Cabin\")"
   ],
   "execution_count":30,
   "outputs":[
    {
     "data":{
      "text\/plain":[
       "<Axes: xlabel='Cabin', ylabel='count'>"
      ]
     },
     "metadata":{
      
     },
     "output_type":"display_data"
    },
    {
     "data":{
      "image\/png":"[encoded data removed]"
     },
     "metadata":{
      "image\/png":{
       
      }
     },
     "output_type":"display_data"
    }
   ],
   "metadata":{
    "datalore":{
     "node_id":"m6DZX4BHaPhibA0srVju3D",
     "type":"CODE",
     "hide_input_from_viewers":true,
     "hide_output_from_viewers":true
    }
   }
  },
  {
   "cell_type":"markdown",
   "source":[
    "As we can see, it is a simple False or True categorical feature, we can use the hue to try and see if thre is any correlation."
   ],
   "attachments":{
    
   },
   "metadata":{
    "datalore":{
     "node_id":"hijoNr1wlercNOupylj3Nj",
     "type":"MD",
     "hide_input_from_viewers":true,
     "hide_output_from_viewers":true
    }
   }
  },
  {
   "cell_type":"code",
   "source":[
    "sns.countplot(data=titanic,x=\"Cabin\",hue=\"Survived\")"
   ],
   "execution_count":31,
   "outputs":[
    {
     "data":{
      "text\/plain":[
       "<Axes: xlabel='Cabin', ylabel='count'>"
      ]
     },
     "metadata":{
      
     },
     "output_type":"display_data"
    },
    {
     "data":{
      "image\/png":"[encoded data removed]"
     },
     "metadata":{
      "image\/png":{
       
      }
     },
     "output_type":"display_data"
    }
   ],
   "metadata":{
    "datalore":{
     "node_id":"M0ByfnfrOkxvRCH6tBYsUT",
     "type":"CODE",
     "hide_input_from_viewers":true,
     "hide_output_from_viewers":true
    }
   }
  },
  {
   "cell_type":"markdown",
   "source":[
    "Interesting, the survival rate of the passengers with an assigned cabin is much higher than usual!\n",
    "\n",
    "But wait, let's try and relate Cabin to Fare, since most passengers assigned cabins would most likely be paying a higher fare, and we already linked Fare to Survived."
   ],
   "attachments":{
    
   },
   "metadata":{
    "datalore":{
     "node_id":"f35y45Fz3oj56lzM53s6uW",
     "type":"MD",
     "hide_input_from_viewers":true,
     "hide_output_from_viewers":true
    }
   }
  },
  {
   "cell_type":"code",
   "source":[
    "sns.histplot(data=titanic,x=\"Fare\",hue=\"Cabin\",bins=15,multiple=\"stack\",log_scale=True)"
   ],
   "execution_count":32,
   "outputs":[
    {
     "data":{
      "text\/plain":[
       "<Axes: xlabel='Fare', ylabel='Count'>"
      ]
     },
     "metadata":{
      
     },
     "output_type":"display_data"
    },
    {
     "data":{
      "image\/png":"[encoded data removed]"
     },
     "metadata":{
      "image\/png":{
       
      }
     },
     "output_type":"display_data"
    }
   ],
   "metadata":{
    "datalore":{
     "node_id":"ezV2BixOFWsNqWcXAODVF9",
     "type":"CODE",
     "hide_input_from_viewers":true,
     "hide_output_from_viewers":true
    }
   }
  },
  {
   "cell_type":"markdown",
   "source":[
    "So Cabin is also very closely related to Fare.\n",
    "\n",
    "This shows us that Cabin would not be that useful for predicting Survived when we have Fare which is a richer feature already, we will discuss more problems that can arise from that later."
   ],
   "attachments":{
    
   },
   "metadata":{
    "datalore":{
     "node_id":"i8wPwtGTtR0Et1lGRa9lI3",
     "type":"MD",
     "hide_input_from_viewers":true,
     "hide_output_from_viewers":true
    }
   }
  },
  {
   "cell_type":"markdown",
   "source":[
    "Proceeding to analyze Pclass, starting with the familiar countplot."
   ],
   "attachments":{
    
   },
   "metadata":{
    "datalore":{
     "node_id":"DwziY2srqwhT5jQyZZPAeM",
     "type":"MD",
     "hide_input_from_viewers":true,
     "hide_output_from_viewers":true
    }
   }
  },
  {
   "cell_type":"code",
   "source":[
    "sns.countplot(data=titanic,x=\"Pclass\")"
   ],
   "execution_count":33,
   "outputs":[
    {
     "data":{
      "text\/plain":[
       "<Axes: xlabel='Pclass', ylabel='count'>"
      ]
     },
     "metadata":{
      
     },
     "output_type":"display_data"
    },
    {
     "data":{
      "image\/png":"[encoded data removed]"
     },
     "metadata":{
      "image\/png":{
       
      }
     },
     "output_type":"display_data"
    }
   ],
   "metadata":{
    "datalore":{
     "node_id":"D7zcTDdv4Km6ZEi2s9IZ9c",
     "type":"CODE",
     "hide_input_from_viewers":true,
     "hide_output_from_viewers":true
    }
   }
  },
  {
   "cell_type":"markdown",
   "source":[
    "It is another simple categorical feature, let's use the hue and try and see if there is a correlation between Pclass and Survived"
   ],
   "attachments":{
    
   },
   "metadata":{
    "datalore":{
     "node_id":"2vAnjMdGTY1KirLhLLWN3O",
     "type":"MD",
     "hide_input_from_viewers":true,
     "hide_output_from_viewers":true
    }
   }
  },
  {
   "cell_type":"code",
   "source":[
    "sns.countplot(data=titanic,x=\"Pclass\",hue=\"Survived\")"
   ],
   "execution_count":34,
   "outputs":[
    {
     "data":{
      "text\/plain":[
       "<Axes: xlabel='Pclass', ylabel='count'>"
      ]
     },
     "metadata":{
      
     },
     "output_type":"display_data"
    },
    {
     "data":{
      "image\/png":"[encoded data removed]"
     },
     "metadata":{
      "image\/png":{
       
      }
     },
     "output_type":"display_data"
    }
   ],
   "metadata":{
    "datalore":{
     "node_id":"tQeyjy5W0rijJdr31bX7JI",
     "type":"CODE",
     "hide_input_from_viewers":true,
     "hide_output_from_viewers":true
    }
   }
  },
  {
   "cell_type":"markdown",
   "source":[
    "There seems to be some correlation between Pclass and Survived, but further exploration is needed.\n",
    "\n",
    "Since we know the context of the dataset, it stands to reason that passengers in first class would pay a higher fare, so we can try and find a relation between Fare and Pclass "
   ],
   "attachments":{
    
   },
   "metadata":{
    "datalore":{
     "node_id":"di6IppNNsdHIay6z9ms5r7",
     "type":"MD",
     "hide_input_from_viewers":true,
     "hide_output_from_viewers":true
    }
   }
  },
  {
   "cell_type":"code",
   "source":[
    "sns.histplot(data=titanic,x=\"Fare\",hue=\"Pclass\",bins=15,multiple=\"stack\",log_scale=True)"
   ],
   "execution_count":35,
   "outputs":[
    {
     "data":{
      "text\/plain":[
       "<Axes: xlabel='Fare', ylabel='Count'>"
      ]
     },
     "metadata":{
      
     },
     "output_type":"display_data"
    },
    {
     "data":{
      "image\/png":"[encoded data removed]"
     },
     "metadata":{
      "image\/png":{
       
      }
     },
     "output_type":"display_data"
    }
   ],
   "metadata":{
    "datalore":{
     "node_id":"8s48oUks7B9QS7V0bccYO1",
     "type":"CODE",
     "hide_input_from_viewers":true,
     "hide_output_from_viewers":true
    }
   }
  },
  {
   "cell_type":"markdown",
   "source":[
    "As expected the Pclass is closely related to Fare which we already linked to the target.\n",
    "\n",
    "This also could be a reason to not prioritize Pclass in out analysis. It could even cause problems if we were to try creating a model off of this data, since 2 other columns are closely related to Fare that can cause an overrepresentation and make our model overvalue Fare when predicting Survived, and the same goes for Cabin."
   ],
   "attachments":{
    
   },
   "metadata":{
    "datalore":{
     "node_id":"gODXqpNyO8o7HIu1MGMNRu",
     "type":"MD",
     "hide_input_from_viewers":true,
     "hide_output_from_viewers":true
    }
   }
  },
  {
   "cell_type":"markdown",
   "source":[
    "The SibSp column stands for the number of siblings or spouses aboard, we will now explore it, beginning with the countplot"
   ],
   "attachments":{
    
   },
   "metadata":{
    "datalore":{
     "node_id":"nbMZVSry1Hso9vshcoUrjN",
     "type":"MD",
     "hide_input_from_viewers":true,
     "hide_output_from_viewers":true
    }
   }
  },
  {
   "cell_type":"code",
   "source":[
    "sns.countplot(data=titanic,x=\"SibSp\")"
   ],
   "execution_count":36,
   "outputs":[
    {
     "data":{
      "text\/plain":[
       "<Axes: xlabel='SibSp', ylabel='count'>"
      ]
     },
     "metadata":{
      
     },
     "output_type":"display_data"
    },
    {
     "data":{
      "image\/png":"[encoded data removed]"
     },
     "metadata":{
      "image\/png":{
       
      }
     },
     "output_type":"display_data"
    }
   ],
   "metadata":{
    "datalore":{
     "node_id":"6IAn9VavHcX4rxoMEQCczx",
     "type":"CODE",
     "hide_input_from_viewers":true,
     "hide_output_from_viewers":true
    }
   }
  },
  {
   "cell_type":"markdown",
   "source":[
    "Now using the Hue we will try to find a relationship between SibSp and Survived"
   ],
   "attachments":{
    
   },
   "metadata":{
    "datalore":{
     "node_id":"zgsOc7MZNquhoSUaIW7D7K",
     "type":"MD",
     "hide_input_from_viewers":true,
     "hide_output_from_viewers":true
    }
   }
  },
  {
   "cell_type":"code",
   "source":[
    "sns.countplot(data=titanic,x=\"SibSp\",hue=\"Survived\")"
   ],
   "execution_count":37,
   "outputs":[
    {
     "data":{
      "text\/plain":[
       "<Axes: xlabel='SibSp', ylabel='count'>"
      ]
     },
     "metadata":{
      
     },
     "output_type":"display_data"
    },
    {
     "data":{
      "image\/png":"[encoded data removed]"
     },
     "metadata":{
      "image\/png":{
       
      }
     },
     "output_type":"display_data"
    }
   ],
   "metadata":{
    "datalore":{
     "node_id":"PGkD270Xfwfs2PGdbUDIn5",
     "type":"CODE",
     "hide_input_from_viewers":true,
     "hide_output_from_viewers":true
    }
   }
  },
  {
   "cell_type":"markdown",
   "source":[
    "From the graphs there does seem to be a very strong correlation between Survived and SibSp but in the specific values on 1 and 2.\n",
    "\n",
    "That is definitely curious and might make worth some more investigation into SibSp, it might be related to Age since young passengers would be more likely to have siblings aboard, we can check that with another histogram."
   ],
   "attachments":{
    
   },
   "metadata":{
    "datalore":{
     "node_id":"CkLnD4dJmBiLLHH7w6acmq",
     "type":"MD",
     "hide_input_from_viewers":true,
     "hide_output_from_viewers":true
    }
   }
  },
  {
   "cell_type":"code",
   "source":[
    "sns.histplot(data=titanic,x=\"Age\",hue=\"SibSp\",multiple=\"stack\")"
   ],
   "execution_count":38,
   "outputs":[
    {
     "data":{
      "text\/plain":[
       "<Axes: xlabel='Age', ylabel='Count'>"
      ]
     },
     "metadata":{
      
     },
     "output_type":"display_data"
    },
    {
     "data":{
      "image\/png":"[encoded data removed]"
     },
     "metadata":{
      "image\/png":{
       
      }
     },
     "output_type":"display_data"
    }
   ],
   "metadata":{
    "datalore":{
     "node_id":"S8Obe4mG8qaFAbh7yfGlKo",
     "type":"CODE",
     "hide_input_from_viewers":true,
     "hide_output_from_viewers":true
    }
   }
  },
  {
   "cell_type":"markdown",
   "source":[
    "The correlation between SibSp doesn't seem too strong, since the highest survival rate was for SibSp = 1, if SibSp was a better indicative of age that could be one way of rationalizing the correlation, but in fact, one of the predominant cattegories in young children was >=3 and that was a category with remarkably low survival rates. \n",
    "\n",
    "That tells us that SibSp could be useful to predicting the Target and should be a factor in our observations."
   ],
   "attachments":{
    
   },
   "metadata":{
    "datalore":{
     "node_id":"y3VfSz96m4JU4J8Pmy6ZW3",
     "type":"MD",
     "hide_input_from_viewers":true,
     "hide_output_from_viewers":true
    }
   }
  },
  {
   "cell_type":"markdown",
   "source":[
    "Parch stands for the number of Parents and Children aboard, this feature has a very similar structure to SibSp and could be correlated in some way, but first we should take a look at its distribution."
   ],
   "attachments":{
    
   },
   "metadata":{
    "datalore":{
     "node_id":"956DSUL6GmUakwYekIJrHB",
     "type":"MD",
     "hide_input_from_viewers":true,
     "hide_output_from_viewers":true
    }
   }
  },
  {
   "cell_type":"code",
   "source":[
    "sns.countplot(data=titanic,x=\"Parch\")"
   ],
   "execution_count":39,
   "outputs":[
    {
     "data":{
      "text\/plain":[
       "<Axes: xlabel='Parch', ylabel='count'>"
      ]
     },
     "metadata":{
      
     },
     "output_type":"display_data"
    },
    {
     "data":{
      "image\/png":"[encoded data removed]"
     },
     "metadata":{
      "image\/png":{
       
      }
     },
     "output_type":"display_data"
    }
   ],
   "metadata":{
    "datalore":{
     "node_id":"KNo3mLhzltEmNoEUGAuLZy",
     "type":"CODE",
     "hide_input_from_viewers":true,
     "hide_output_from_viewers":true
    }
   }
  },
  {
   "cell_type":"markdown",
   "source":[
    "As expected, it follows a similar pattern to SibSp we can use the Hue feature to see if it is related to the target in the same way as SibSp"
   ],
   "attachments":{
    
   },
   "metadata":{
    "datalore":{
     "node_id":"wkDhb9OU1m7ZKWtqq5QOGl",
     "type":"MD",
     "hide_input_from_viewers":true,
     "hide_output_from_viewers":true
    }
   }
  },
  {
   "cell_type":"code",
   "source":[
    "sns.countplot(data=titanic,x=\"Parch\",hue=\"Survived\")"
   ],
   "execution_count":40,
   "outputs":[
    {
     "data":{
      "text\/plain":[
       "<Axes: xlabel='Parch', ylabel='count'>"
      ]
     },
     "metadata":{
      
     },
     "output_type":"display_data"
    },
    {
     "data":{
      "image\/png":"[encoded data removed]"
     },
     "metadata":{
      "image\/png":{
       
      }
     },
     "output_type":"display_data"
    }
   ],
   "metadata":{
    "datalore":{
     "node_id":"0ElnH1AirTS8oQ5HKtEIxH",
     "type":"CODE",
     "hide_input_from_viewers":true,
     "hide_output_from_viewers":true
    }
   }
  },
  {
   "cell_type":"markdown",
   "source":[
    "The relationship to the target is very similar, that could mean that they are very closely related to eachother, we can try and verify that with another plot. "
   ],
   "attachments":{
    
   },
   "metadata":{
    "datalore":{
     "node_id":"Uu2xjEZ06pWGP3ntgId0Uq",
     "type":"MD",
     "hide_input_from_viewers":true,
     "hide_output_from_viewers":true
    }
   }
  },
  {
   "cell_type":"code",
   "source":[
    "sns.histplot(data=titanic,x=\"Parch\",hue=\"SibSp\",multiple=\"stack\")"
   ],
   "execution_count":41,
   "outputs":[
    {
     "data":{
      "text\/plain":[
       "<Axes: xlabel='Parch', ylabel='Count'>"
      ]
     },
     "metadata":{
      
     },
     "output_type":"display_data"
    },
    {
     "data":{
      "image\/png":"[encoded data removed]"
     },
     "metadata":{
      "image\/png":{
       
      }
     },
     "output_type":"display_data"
    }
   ],
   "metadata":{
    "datalore":{
     "node_id":"KE6le7hfoP4GuPYIKkuqqH",
     "type":"CODE",
     "hide_input_from_viewers":true,
     "hide_output_from_viewers":true
    }
   }
  },
  {
   "cell_type":"markdown",
   "source":[
    "They do not seem very closely related outside of value 0 and slightly related at value 1, that tells us that they probably aren't very good predictors for each other and should be evaluated separately.\n",
    "\n",
    "That being said, Parch could be useful in predicting the target and should be included in our analysis."
   ],
   "attachments":{
    
   },
   "metadata":{
    "datalore":{
     "node_id":"gPJ8J9EQJQFrBJDLbIG1GX",
     "type":"MD",
     "hide_input_from_viewers":true,
     "hide_output_from_viewers":true
    }
   }
  },
  {
   "cell_type":"markdown",
   "source":[
    "The last remaining useful feature is Embarked, which we will proceed to analyzing starting with the countplot."
   ],
   "attachments":{
    
   },
   "metadata":{
    "datalore":{
     "node_id":"aLUa06v9JqSZI0xI9TqeMQ",
     "type":"MD",
     "hide_input_from_viewers":true,
     "hide_output_from_viewers":true
    }
   }
  },
  {
   "cell_type":"code",
   "source":[
    "sns.countplot(data=titanic,x=\"Embarked\")"
   ],
   "execution_count":42,
   "outputs":[
    {
     "data":{
      "text\/plain":[
       "<Axes: xlabel='Embarked', ylabel='count'>"
      ]
     },
     "metadata":{
      
     },
     "output_type":"display_data"
    },
    {
     "data":{
      "image\/png":"[encoded data removed]"
     },
     "metadata":{
      "image\/png":{
       
      }
     },
     "output_type":"display_data"
    }
   ],
   "metadata":{
    "datalore":{
     "node_id":"tsIT5VPvZV3H6au7D3T3Mx",
     "type":"CODE",
     "hide_input_from_viewers":true,
     "hide_output_from_viewers":true
    }
   }
  },
  {
   "cell_type":"markdown",
   "source":[
    "As we can see most of the passengers embarked in Southampton. Now to the hue to see the relationship with the target"
   ],
   "attachments":{
    
   },
   "metadata":{
    "datalore":{
     "node_id":"InMXQQrVz0rCtvV0zc6K8L",
     "type":"MD",
     "hide_input_from_viewers":true,
     "hide_output_from_viewers":true
    }
   }
  },
  {
   "cell_type":"code",
   "source":[
    "sns.countplot(data=titanic,x=\"Embarked\",hue=\"Survived\")"
   ],
   "execution_count":43,
   "outputs":[
    {
     "data":{
      "text\/plain":[
       "<Axes: xlabel='Embarked', ylabel='count'>"
      ]
     },
     "metadata":{
      
     },
     "output_type":"display_data"
    },
    {
     "data":{
      "image\/png":"[encoded data removed]"
     },
     "metadata":{
      "image\/png":{
       
      }
     },
     "output_type":"display_data"
    }
   ],
   "metadata":{
    "datalore":{
     "node_id":"Y2A148JA1WuUQIMjv3Kw9s",
     "type":"CODE",
     "hide_input_from_viewers":true,
     "hide_output_from_viewers":true
    }
   }
  },
  {
   "cell_type":"markdown",
   "source":[
    "Interestingly, the survival rate of passengers that embarked at Queenstown and Cherbourgh are higher. This could be for many reasons personally I suspect that the average fare for those Ports could be higher, we can use a histogram to visualize that "
   ],
   "attachments":{
    
   },
   "metadata":{
    "datalore":{
     "node_id":"XqQLFwMaNjGCxhJbR8mDuj",
     "type":"MD",
     "hide_input_from_viewers":true,
     "hide_output_from_viewers":true
    }
   }
  },
  {
   "cell_type":"code",
   "source":[
    "sns.histplot(data=titanic,x=\"Fare\",hue=\"Embarked\",bins=15,multiple=\"stack\",log_scale=True)"
   ],
   "execution_count":44,
   "outputs":[
    {
     "data":{
      "text\/plain":[
       "<Axes: xlabel='Fare', ylabel='Count'>"
      ]
     },
     "metadata":{
      
     },
     "output_type":"display_data"
    },
    {
     "data":{
      "image\/png":"[encoded data removed]"
     },
     "metadata":{
      "image\/png":{
       
      }
     },
     "output_type":"display_data"
    }
   ],
   "metadata":{
    "datalore":{
     "node_id":"hQEl3e4Utvt1tzxkO8Ibrl",
     "type":"CODE",
     "hide_input_from_viewers":true,
     "hide_output_from_viewers":true
    }
   }
  },
  {
   "cell_type":"markdown",
   "source":[
    "There seems to be a slightly larger number of passengers that paid a higher fare and embarked at Cherbourgh but besides that they do not seem closely related, in fact, most of the passengers that embarked at Queenstown paid a lower fee on average and had an above average survival rate.\n",
    "\n",
    "This means that Embarked could probably be a good predictor for the target"
   ],
   "attachments":{
    
   },
   "metadata":{
    "datalore":{
     "node_id":"8KZciIkgjLq8e0MhZwvSEP",
     "type":"MD",
     "hide_input_from_viewers":true,
     "hide_output_from_viewers":true
    }
   }
  },
  {
   "cell_type":"markdown",
   "source":[
    "Finally, we will analyze the detailedTicket feature, staring with the simple countplot"
   ],
   "attachments":{
    
   },
   "metadata":{
    "datalore":{
     "node_id":"MU7ucleVrhksqnlAfAc6S6",
     "type":"MD",
     "hide_input_from_viewers":true,
     "hide_output_from_viewers":true
    }
   }
  },
  {
   "cell_type":"code",
   "source":[
    "sns.countplot(data=titanic,x=\"detailedTicket\")"
   ],
   "execution_count":45,
   "outputs":[
    {
     "data":{
      "text\/plain":[
       "<Axes: xlabel='detailedTicket', ylabel='count'>"
      ]
     },
     "metadata":{
      
     },
     "output_type":"display_data"
    },
    {
     "data":{
      "image\/png":"[encoded data removed]"
     },
     "metadata":{
      "image\/png":{
       
      }
     },
     "output_type":"display_data"
    }
   ],
   "metadata":{
    "datalore":{
     "node_id":"TeNcWI9dJzM3M8xaaHU72l",
     "type":"CODE",
     "hide_input_from_viewers":true,
     "hide_output_from_viewers":true
    }
   }
  },
  {
   "cell_type":"markdown",
   "source":[
    "Most of the tickets do not have details, so we will try using the hue to see if maybe that could be a good predictor for the target."
   ],
   "attachments":{
    
   },
   "metadata":{
    "datalore":{
     "node_id":"kQD15UPW20HYBr4joX7D14",
     "type":"MD",
     "hide_input_from_viewers":true,
     "hide_output_from_viewers":true
    }
   }
  },
  {
   "cell_type":"code",
   "source":[
    "sns.countplot(data=titanic,x=\"detailedTicket\",hue=\"Survived\")"
   ],
   "execution_count":46,
   "outputs":[
    {
     "data":{
      "text\/plain":[
       "<Axes: xlabel='detailedTicket', ylabel='count'>"
      ]
     },
     "metadata":{
      
     },
     "output_type":"display_data"
    },
    {
     "data":{
      "image\/png":"[encoded data removed]"
     },
     "metadata":{
      "image\/png":{
       
      }
     },
     "output_type":"display_data"
    }
   ],
   "metadata":{
    "datalore":{
     "node_id":"SQkfQGnOjlgiQMFO2dbArM",
     "type":"CODE",
     "hide_input_from_viewers":true,
     "hide_output_from_viewers":true
    }
   }
  },
  {
   "cell_type":"markdown",
   "source":[
    "There does not seem to be any correlation between the detailed tickets and survival, so will end up not using it for our analysis."
   ],
   "attachments":{
    
   },
   "metadata":{
    "datalore":{
     "node_id":"JrmBBdptEYNNqJx87uNXJd",
     "type":"MD",
     "hide_input_from_viewers":true,
     "hide_output_from_viewers":true
    }
   }
  },
  {
   "cell_type":"markdown",
   "source":[
    "We will now proceed to some correlation visualization techniques, they will allow us to review our observations and maybe find some relationships that we did not detect earlier, stanting with the Pearson's coeficcient, it is a value ranging from -1 to 1 that tells us how closely related two numerical features are."
   ],
   "attachments":{
    
   },
   "metadata":{
    "datalore":{
     "node_id":"9s3m02EIsh30dQai9JyXrH",
     "type":"MD",
     "hide_input_from_viewers":true,
     "hide_output_from_viewers":true
    }
   }
  },
  {
   "cell_type":"code",
   "source":[
    "corr = titanic.corr(method=\"pearson\",numeric_only=True)\n",
    "cmap = sns.diverging_palette(230, 20, as_cmap=True)\n",
    "sns.heatmap(corr, square=True, vmin=-1, vmax=1, cmap=cmap,annot=True)"
   ],
   "execution_count":47,
   "outputs":[
    {
     "data":{
      "text\/plain":[
       "<Axes: >"
      ]
     },
     "metadata":{
      
     },
     "output_type":"display_data"
    },
    {
     "data":{
      "image\/png":"[encoded data removed]"
     },
     "metadata":{
      "image\/png":{
       
      }
     },
     "output_type":"display_data"
    }
   ],
   "metadata":{
    "datalore":{
     "node_id":"hLhdS8jSlZsSLV6f3jwj3m",
     "type":"CODE",
     "hide_input_from_viewers":true,
     "hide_output_from_viewers":true
    }
   }
  },
  {
   "cell_type":"markdown",
   "source":[
    "As expected, this shows us that there seems to be a relationship between the target and Pclass, Cabin and Fare. This confirms our observations as it also shows that Pclass and Cabin are very closely related to Fare, and thus usually we would not consider each of them separately.\n",
    "\n",
    "Interestingly, the Pearson coefficient of Survived and Age is surprisingly low, with the one for isUnderage being slightly higher, this goes against our observations, but different coefficients might show that relationship better.\n",
    "\n",
    "There is also a notable correlation between Cabin and Age which didn't show up up in earlier observations and could mean that Cabin is more useful than it seemed at first. \n",
    "\n",
    "DetailedTicket also proved itself as basically unrelated to survival, being mroe close to Fare, Pclass and Cabin.\n",
    "\n",
    "Now the next coefficient is the Spearman's Rank correlation coefficient."
   ],
   "attachments":{
    
   },
   "metadata":{
    "datalore":{
     "node_id":"oGjDPNFfWKOEVF4d78RcbE",
     "type":"MD",
     "hide_input_from_viewers":true,
     "hide_output_from_viewers":true
    }
   }
  },
  {
   "cell_type":"code",
   "source":[
    "corr = titanic.corr(method=\"spearman\",numeric_only=True)\n",
    "cmap = sns.diverging_palette(230, 20, as_cmap=True)\n",
    "sns.heatmap(corr, square=True, vmin=-1, vmax=1, cmap=cmap,annot=True)"
   ],
   "execution_count":49,
   "outputs":[
    {
     "data":{
      "text\/plain":[
       "<Axes: >"
      ]
     },
     "metadata":{
      
     },
     "output_type":"display_data"
    },
    {
     "data":{
      "image\/png":"[encoded data removed]"
     },
     "metadata":{
      "image\/png":{
       
      }
     },
     "output_type":"display_data"
    }
   ],
   "metadata":{
    "datalore":{
     "node_id":"SdZDMwjaabGbmOeHjFBPov",
     "type":"CODE",
     "hide_input_from_viewers":true,
     "hide_output_from_viewers":true
    }
   }
  },
  {
   "cell_type":"markdown",
   "source":[
    "The Spearman's Rank correlation coefficient also does not support categorical values and did not show any significant changes to the values observed with the Pearson's method.\n",
    "\n",
    "I suspect that since the Age was a better predictor of Survived for males and Sex is a categorical feature not supported by the previous models the relationship is not so clear with them.\n",
    "\n",
    "Now to Phik correlation coefficient, one that supports categorical features."
   ],
   "attachments":{
    
   },
   "metadata":{
    "datalore":{
     "node_id":"pPnCBGWACj9wKpPgT3j7R9",
     "type":"MD",
     "hide_input_from_viewers":true,
     "hide_output_from_viewers":true
    }
   }
  },
  {
   "cell_type":"code",
   "source":[
    "import phik\n",
    "corr = titanic.phik_matrix()\n",
    "cmap = sns.diverging_palette(230, 20, as_cmap=True)\n",
    "sns.heatmap(corr, square=True, vmin=-1, vmax=1, cmap=cmap)"
   ],
   "execution_count":50,
   "outputs":[
    {
     "name":"stdout",
     "text":[
      "interval columns not set, guessing: ['PassengerId', 'Survived', 'Pclass', 'Age', 'Fare']\n"
     ],
     "output_type":"stream"
    },
    {
     "data":{
      "text\/plain":[
       "<Axes: >"
      ]
     },
     "metadata":{
      
     },
     "output_type":"display_data"
    },
    {
     "data":{
      "image\/png":"[encoded data removed]"
     },
     "metadata":{
      "image\/png":{
       
      }
     },
     "output_type":"display_data"
    }
   ],
   "metadata":{
    "datalore":{
     "node_id":"RJe5gnOAEEttYJnhc7WTyb",
     "type":"CODE",
     "hide_input_from_viewers":true,
     "hide_output_from_viewers":true
    }
   }
  },
  {
   "cell_type":"markdown",
   "source":[
    "Phik still does not show the correlation between Survived and Age, which probably is because that correlation realies on another feature and the algorythm cannot interpret that, but we have seen that for males age is an importatn predictor for Survived.\n",
    "\n",
    "Parch and SibSp also do not seem to have as strong of correlation to target as we thought, but that could be due to the low sample size and it only being an occasional relationship mainly in the values of 1 and 2, and according to Phik they are more closely related than expected.\n",
    "\n",
    "Sex also shows up as another strong correlation to the target with Phik, as we expected from earlier observations.\n",
    "\n",
    "Title also has some potential, but as we saw earlier, it is a better predictor for Age and Sex than for the target, and the relationship between Title and Survived is mostly tangential.\n",
    "\n",
    "Pclass, Cabin and Fare are also good predictors for the target but are very closely related to themselves, so especially if we were to build a model with this data, we should either merge them in some way or ignore some of them as to not overemphasize one feature.\n",
    "\n",
    "Embarked doesn't show up as a good predictor for the target and also is related to Fare and Pclass so maybe it should be put together with those.\n",
    "\n",
    "Since Name has no repeating values it technically is an amazing predictor for everything due to the way that the algorythm calculates correlation, but in reality just knowing the name of a passenger would not tell us anything besides what we can get with the title especially if it was a passenger not in this dataset but instead in another testing set for a machine learning model for example, so due to the high variability and problems with later training Name should be mostly ignored and Title can be used in its place.\n",
    "\n",
    "Ticket also has the same problems as Name, so even though the Phink method suggests that it could be a good predictor it should usually be ignored and if needed detailedTicket shoudl be used in its place, which reveals that without the high variability the Ticket data cannot be reliably used."
   ],
   "attachments":{
    
   },
   "metadata":{
    "datalore":{
     "node_id":"j49qgEFSPlSkGou0lBeHcY",
     "type":"MD",
     "hide_input_from_viewers":true,
     "hide_output_from_viewers":true
    }
   }
  },
  {
   "cell_type":"markdown",
   "source":[
    "\n",
    "\n",
    "In conclusion, Sex is one of the best predictors for survival, followed by Pclass, Cabin, Fare which ideally would be merged into one column in some way if we were to train a model with this data, another important feature is Age, which by itself isn't so useful, but when paired with sex it can be a good predictor. Parch and SibSp could also be included in models but should be ideally averaged out together into a new feature, and even then using them could be dangerous due to their low variability, which could induce bias.Embarked also has potential, but due to its possible relation to Pclass, Cabin and Fare it should maybe just be included in the new column with them. Title also could be used but is not ideal since it is also very closely related to Sex and Age. Ticket should be ignored as well as detailedTicket and Name, as they are not good predictors for survival."
   ],
   "attachments":{
    
   },
   "metadata":{
    "datalore":{
     "node_id":"gUOcf5uBkFGchCOfQIzjOZ",
     "type":"MD",
     "hide_input_from_viewers":true,
     "hide_output_from_viewers":true
    }
   }
  }
 ],
 "metadata":{
  "kernelspec":{
   "display_name":"Python",
   "language":"python",
   "name":"python"
  },
  "datalore":{
   "computation_mode":"JUPYTER",
   "package_manager":"pip",
   "base_environment":"default",
   "packages":[
    {
     "name":"pingouin",
     "version":"0.5.3",
     "source":"PIP"
    },
    {
     "name":"seaborn",
     "version":"0.13.0",
     "source":"PIP"
    },
    {
     "name":"phik",
     "version":"0.12.3",
     "source":"PIP"
    }
   ],
   "report_row_ids":[
    
   ],
   "version":3
  }
 },
 "nbformat":4,
 "nbformat_minor":4
}